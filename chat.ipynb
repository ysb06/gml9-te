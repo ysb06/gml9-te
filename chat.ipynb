{
 "cells": [
  {
   "cell_type": "code",
   "execution_count": null,
   "metadata": {},
   "outputs": [],
   "source": [
    "import os\n",
    "import networkx as nx\n",
    "import geopandas as gpd\n",
    "import matplotlib\n",
    "import matplotlib.pyplot as plt\n",
    "matplotlib.use('Qt5Agg')\n",
    "import pandas as pd\n",
    "\n",
    "OUTPUT_PATH = \"./resources/output/\""
   ]
  },
  {
   "cell_type": "code",
   "execution_count": null,
   "metadata": {},
   "outputs": [],
   "source": [
    "DATASET_ROOT = \"./resources/metr_ic_sample/Dataset_Pruned\"\n",
    "DATASET_GRAPH_ROOT = os.path.join(DATASET_ROOT, \"sensor_graph\")\n",
    "\n",
    "PRUNED_DATASET_ROOT = \"./resources/metr_ic_sample/Dataset_Pruned\"\n",
    "PRUNED_DATASET_GRAPH_ROOT = os.path.join(DATASET_ROOT, \"sensor_graph\")"
   ]
  }
 ],
 "metadata": {
  "kernelspec": {
   "display_name": ".venv",
   "language": "python",
   "name": "python3"
  },
  "language_info": {
   "codemirror_mode": {
    "name": "ipython",
    "version": 3
   },
   "file_extension": ".py",
   "mimetype": "text/x-python",
   "name": "python",
   "nbconvert_exporter": "python",
   "pygments_lexer": "ipython3",
   "version": "3.9.13"
  }
 },
 "nbformat": 4,
 "nbformat_minor": 2
}
